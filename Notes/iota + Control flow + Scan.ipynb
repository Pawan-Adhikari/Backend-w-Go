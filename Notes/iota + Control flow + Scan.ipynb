{
 "cells": [
  {
   "cell_type": "markdown",
   "id": "2280a2e9-ea9c-4bb0-8166-0894dc3d0096",
   "metadata": {},
   "source": [
    "iota\n",
    "\n",
    "Generates a set of related but distinct constants\n",
    "\n"
   ]
  },
  {
   "cell_type": "code",
   "execution_count": 1,
   "id": "94ae5923-70cd-4e4d-9aa7-c1912939aa6a",
   "metadata": {},
   "outputs": [],
   "source": [
    "type Grades int \n",
    "const (\n",
    "    A Grades = iota\n",
    "    B\n",
    "    C\n",
    "    D\n",
    "    F\n",
    ")\n"
   ]
  },
  {
   "cell_type": "markdown",
   "id": "947155d2-cf91-47bb-9c38-aa783e0cc8d7",
   "metadata": {},
   "source": [
    "Each constant is assigned to a unique integer starting from 1"
   ]
  },
  {
   "cell_type": "code",
   "execution_count": null,
   "id": "b09a7aed-1256-4666-a408-8efae58de06c",
   "metadata": {},
   "outputs": [],
   "source": []
  },
  {
   "cell_type": "markdown",
   "id": "5e1741c8-b960-4c8c-987b-484d480f2d03",
   "metadata": {},
   "source": [
    "For Loops\n",
    "\n",
    "for <int>; <cond>; <update> {\n",
    "    <stmts>\n",
    "}"
   ]
  },
  {
   "cell_type": "code",
   "execution_count": null,
   "id": "c3cb6ba3-64d6-432f-9d7d-fe76501aa3dc",
   "metadata": {},
   "outputs": [],
   "source": [
    "for i :=0 ; i<10; i++\n",
    "{\n",
    "    fmt.Printf(\"hi \")\n",
    "}\n",
    "\n",
    "i = 0\n",
    "for i<10\n",
    "{\n",
    "    fmt.Printf(\"hi \")\n",
    "}\n",
    "\n",
    "for \n",
    "{\n",
    "    fmt.printf(\"Hi \")\n",
    "}"
   ]
  },
  {
   "cell_type": "markdown",
   "id": "4a0adde4-e162-4774-8625-5d80598d32ab",
   "metadata": {},
   "source": [
    "Switch/Case"
   ]
  },
  {
   "cell_type": "code",
   "execution_count": 2,
   "id": "1e0c50ff-bc86-438f-9738-0be491f00080",
   "metadata": {},
   "outputs": [
    {
     "ename": "ERROR",
     "evalue": "repl.go:9:26: expected 'case' or 'default', found 'EOF'",
     "output_type": "error",
     "traceback": [
      "repl.go:9:26: expected 'case' or 'default', found 'EOF'"
     ]
    }
   ],
   "source": [
    "switch x {\n",
    "case 1:\n",
    "    fmt.Printf(\"case1\")\n",
    "case 2:\n",
    "    fmt.Printf(\"case2\")\n",
    "case 3:\n",
    "    fmt.Printf(\"case3\")\n",
    "default:\n",
    "    fmt.Printf(\"Default\")\n",
    "    }"
   ]
  },
  {
   "cell_type": "code",
   "execution_count": 3,
   "id": "1eee0a9e-4f05-46d0-8f2c-8ea1207aba7b",
   "metadata": {},
   "outputs": [
    {
     "ename": "ERROR",
     "evalue": "repl.go:2:6: undefined identifier: x",
     "output_type": "error",
     "traceback": [
      "repl.go:2:6: undefined identifier: x"
     ]
    }
   ],
   "source": [
    "switch {\n",
    "case x>1:\n",
    "    fmt.Printf(\"case1\")\n",
    "case x< -1:\n",
    "    fmt.Printf(\"case2\")\n",
    "}"
   ]
  },
  {
   "cell_type": "markdown",
   "id": "b79542ac-52f6-42cf-8777-3bb8a9bcd10a",
   "metadata": {},
   "source": [
    "Scan\n",
    "\n",
    "-Scan reads user input\n",
    "-Takes user input and a pointer as argument\n",
    "-Returns the number of scanned items and error"
   ]
  },
  {
   "cell_type": "code",
   "execution_count": null,
   "id": "f65913ba-f89d-4729-9318-aefdff44978f",
   "metadata": {},
   "outputs": [],
   "source": [
    "var name string\n",
    "var age int\n",
    "\n",
    "n, err := fmt.Scan(&name, &age)\n",
    "if err != nil {\n",
    "    fmt.Println(\"Error:\", err)\n",
    "} else {\n",
    "    fmt.Printf(\"Scanned %d values: %s is %d years old\\n\", n, name, age)\n",
    "}\n"
   ]
  }
 ],
 "metadata": {
  "kernelspec": {
   "display_name": "Go",
   "language": "go",
   "name": "gophernotes"
  },
  "language_info": {
   "codemirror_mode": "",
   "file_extension": ".go",
   "mimetype": "",
   "name": "go",
   "nbconvert_exporter": "",
   "pygments_lexer": "",
   "version": "go1.24.3"
  }
 },
 "nbformat": 4,
 "nbformat_minor": 5
}
