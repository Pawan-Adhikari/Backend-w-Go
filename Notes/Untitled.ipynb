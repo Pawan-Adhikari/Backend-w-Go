{
 "cells": [
  {
   "cell_type": "markdown",
   "id": "39d4aea6-a03e-4631-b5ec-989a5dfde1b0",
   "metadata": {},
   "source": [
    "Files\n",
    "\n",
    "Linear access, not random access.\n",
    "i.e like a tape. must scan from start to end for every object.\n",
    "\n",
    "Basic File operations:\n",
    "\n",
    "1. Open - get handle for access\n",
    "\n",
    "2. Read - read bytes into []byte\n",
    "\n",
    "3. Write - write []byte into file\n",
    "\n",
    "4. Close - release handle\n",
    "\n",
    "5. Seek - move read/write head/pointer\n",
    "\n",
    "There are multiple packages for file access."
   ]
  },
  {
   "cell_type": "markdown",
   "id": "eaa74b8c-45a3-4968-8e11-b5172d905ddc",
   "metadata": {},
   "source": [
    "1. \"io/ioutil\" Package\n",
    "\n",
    "-Has basic function"
   ]
  },
  {
   "cell_type": "code",
   "execution_count": 1,
   "id": "2b1e6e2c-d7bf-4364-a081-1d863af2ccca",
   "metadata": {},
   "outputs": [
    {
     "ename": "ERROR",
     "evalue": "repl.go:2:5: expected statement, found '.'",
     "output_type": "error",
     "traceback": [
      "repl.go:2:5: expected statement, found '.'"
     ]
    }
   ],
   "source": [
    "dat, e := ioutil\n",
    "    .ReadFile(\"test.txt\")"
   ]
  },
  {
   "cell_type": "markdown",
   "id": "491c7f06-84ec-49dd-a89c-caa746426401",
   "metadata": {},
   "source": [
    "dat is []byte filled with contents of entire file. No need to open/close files. Large files can cause problems : file could be 8gbs but our RAM could only be 4gbs."
   ]
  },
  {
   "cell_type": "code",
   "execution_count": 2,
   "id": "2c94ec77-2720-4bfa-896d-937c1c4b7324",
   "metadata": {},
   "outputs": [
    {
     "ename": "ERROR",
     "evalue": "repl.go:3:5: expected statement, found '.'",
     "output_type": "error",
     "traceback": [
      "repl.go:3:5: expected statement, found '.'"
     ]
    }
   ],
   "source": [
    "dat = \"Hello, world\"\n",
    "err: ioutil\n",
    "    .WriteFile(\"outfile.txt\", dat, 0777)"
   ]
  },
  {
   "cell_type": "markdown",
   "id": "8c531de3-12cd-427a-a48a-0fb7a95c6ca8",
   "metadata": {},
   "source": [
    "3rd argument is the Unix-style permission bytes. You need permissions to create/write files."
   ]
  },
  {
   "cell_type": "markdown",
   "id": "090f10c8-72d1-4d33-91b1-adbf1701756b",
   "metadata": {},
   "source": [
    "2. \"os\" Package:\n",
    "\n",
    "-Has more controls to files\n",
    "\n",
    "os.Open() : Opens the file and returns a file handle\n",
    "\n",
    "os.Close() : closes the file and frees the handle\n",
    "\n",
    "os.Read() : reads from a file into a []byte. It fills the []byte with as much data as it can store. Thus we can control the amount to read. Returns two arguments, number of bytes read and err.\n",
    "\n",
    "os.Write() : Writes a [] byte into a file."
   ]
  },
  {
   "cell_type": "code",
   "execution_count": null,
   "id": "ef76eda3-954a-4b41-82c5-c8a4963d581b",
   "metadata": {},
   "outputs": [],
   "source": [
    "f, err := os.Open(\"test.txt\")\n",
    "barr := make([]byte, 10)\n",
    "nb, err := f.Read(barr)\n",
    "f.Close()"
   ]
  },
  {
   "cell_type": "code",
   "execution_count": null,
   "id": "eebb1bef-85c4-44ed-af73-4209391c580c",
   "metadata": {},
   "outputs": [],
   "source": [
    "nb, err := f.Write(barr)\n",
    "nb, err := f.WriteString(\"Hello World)"
   ]
  }
 ],
 "metadata": {
  "kernelspec": {
   "display_name": "Go",
   "language": "go",
   "name": "gophernotes"
  },
  "language_info": {
   "codemirror_mode": "",
   "file_extension": ".go",
   "mimetype": "",
   "name": "go",
   "nbconvert_exporter": "",
   "pygments_lexer": "",
   "version": "go1.24.3"
  }
 },
 "nbformat": 4,
 "nbformat_minor": 5
}
