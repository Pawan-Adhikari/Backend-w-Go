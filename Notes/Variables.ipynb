{
 "cells": [
  {
   "cell_type": "markdown",
   "id": "6be89360-e465-4a09-bdcd-b9ced5fd7479",
   "metadata": {},
   "source": [
    "# "
   ]
  },
  {
   "cell_type": "markdown",
   "id": "42f5c3b8-e447-4848-8526-d422022103e9",
   "metadata": {},
   "source": [
    "Variables need declaration as:\n",
    "\n",
    "var x int \n",
    "\n",
    "var - keyword\n",
    "x - name\n",
    "int - variable type\n",
    "\n",
    "Go is a compliled language so variable types must be declared beforehan.\n",
    "\n",
    "Variable types:\n",
    "-Integers, Floating point, Strings, \n",
    "-Why types ? Operations happen based on the type. Eg. Operator overloading, funciton overloading = Polymorphism.\n",
    "\n"
   ]
  },
  {
   "cell_type": "markdown",
   "id": "a9565622-b7b3-4234-917e-d2fe220570ce",
   "metadata": {},
   "source": [
    "Type Declarations:\n",
    "\n",
    "Defining an alias(alternative name) for a type. This may help in improving the clarity."
   ]
  },
  {
   "cell_type": "code",
   "execution_count": 1,
   "id": "6510dace-aaf0-48d5-b31c-ddb86a12f14a",
   "metadata": {},
   "outputs": [],
   "source": [
    "type Celsius float64\n",
    "type IDnum int\n"
   ]
  },
  {
   "cell_type": "markdown",
   "id": "b2c6f465-701d-4d4d-bc2a-ea8a1902729d",
   "metadata": {},
   "source": [
    "Now, we can use Celsius or IDnum to declare new variables that are esstntially floats or ints.\n"
   ]
  },
  {
   "cell_type": "code",
   "execution_count": 2,
   "id": "592f429c-38bc-4065-a9d4-083d1fb73f90",
   "metadata": {},
   "outputs": [],
   "source": [
    "var temp Celsius\n"
   ]
  },
  {
   "cell_type": "markdown",
   "id": "fe9b5529-f532-4b7b-afba-eafa80c61ab0",
   "metadata": {},
   "source": [
    "A variable named temp of type Celsius = float64 is created."
   ]
  },
  {
   "cell_type": "markdown",
   "id": "e3e379e5-fed1-4655-a804-2697efee3a87",
   "metadata": {},
   "source": [
    "Initialization of variables:"
   ]
  },
  {
   "cell_type": "code",
   "execution_count": 3,
   "id": "5f1c074e-e560-49cc-92be-6b7597380ae2",
   "metadata": {},
   "outputs": [],
   "source": [
    "var x int = 100\n",
    "var x int // x is not initialized yet i.e x -0\n",
    "var x string // x =\"\""
   ]
  },
  {
   "cell_type": "markdown",
   "id": "5f05e182-93e8-49bf-b52f-d06a19551181",
   "metadata": {},
   "source": [
    "Short Variable Declarations:"
   ]
  },
  {
   "cell_type": "code",
   "execution_count": 4,
   "id": "286a483f-3ef6-4781-9f5a-55c9ec01d318",
   "metadata": {},
   "outputs": [],
   "source": [
    "x := 10 // here we aren't declaring the "
   ]
  },
  {
   "cell_type": "raw",
   "id": "2c20e03f-23e8-4a23-9589-63ad1ac79d6e",
   "metadata": {},
   "source": [
    "Here, we aren't declaring the type of x, still it gets declared and initialiazed according to the value on the right. i.e int.\n",
    "This can only be done inside functions.\n"
   ]
  },
  {
   "cell_type": "markdown",
   "id": "99b9ab7b-8062-45c2-8dd9-f7f6c8f1db7d",
   "metadata": {},
   "source": [
    "Short variable declarations (:=) are limited to function bodies because:\n",
    "\n",
    "They hide the var keyword, which can be unsafe at global scope. - accidental shadowing could happen\n",
    "\n",
    "Go enforces explicit global declarations for clarity, safety, and predictable behavior.\n"
   ]
  },
  {
   "cell_type": "markdown",
   "id": "1e246ca7-e56b-4389-91c9-0d7b41d13296",
   "metadata": {},
   "source": [
    "New:\n",
    "\n",
    "Alternate way to create a variable. new() function creates a variable and returns a pointer to the variable. Since the variables are uninitialized, default values are set."
   ]
  },
  {
   "cell_type": "code",
   "execution_count": null,
   "id": "5f340d4a-8db3-456a-95d5-c8511d17cfd0",
   "metadata": {},
   "outputs": [],
   "source": []
  },
  {
   "cell_type": "code",
   "execution_count": null,
   "id": "c9964675-afb8-478e-8881-446592312cfe",
   "metadata": {},
   "outputs": [],
   "source": []
  },
  {
   "cell_type": "code",
   "execution_count": null,
   "id": "68c74de0-37a4-489a-bfb7-c9beb0c8e614",
   "metadata": {},
   "outputs": [],
   "source": []
  },
  {
   "cell_type": "code",
   "execution_count": 1,
   "id": "a91036ee-ca41-4c35-a1fe-aabad8c40e20",
   "metadata": {},
   "outputs": [],
   "source": [
    "ptr := new(int)\n",
    "*ptr = 3\n",
    "\n",
    "//or\n",
    "\n",
    "var ptr* int \n",
    "ptr = new(int)\n",
    "*ptr = 3\n"
   ]
  },
  {
   "cell_type": "markdown",
   "id": "85eae859-6ab6-4c89-b0c2-28f1feae6f50",
   "metadata": {},
   "source": [
    "Lexical Scoping\n",
    "If bi > = bj then bj is defined inside bi.\n"
   ]
  },
  {
   "cell_type": "code",
   "execution_count": 3,
   "id": "8ce9b1e0-9e43-4039-851d-eb574d5072ef",
   "metadata": {},
   "outputs": [
    {
     "ename": "ERROR",
     "evalue": "repl.go:4:5: undefined identifier: fmt",
     "output_type": "error",
     "traceback": [
      "repl.go:4:5: undefined identifier: fmt"
     ]
    }
   ],
   "source": [
    "var x = 4  // --> b1\n",
    "func f()\n",
    "{\n",
    "    fmt.Printf(\"%d\", x) // ---> b2\n",
    "}\n",
    "func g() \n",
    "{\n",
    "    fmt.Printf(\"%d\", x) // ---> b3\n",
    "}\n"
   ]
  },
  {
   "cell_type": "markdown",
   "id": "19e38e58-a868-4391-b507-495a3d8d4c46",
   "metadata": {},
   "source": [
    "b1 > b2,b3 since b2 and b3 are defined inside b1.\n",
    "\n",
    "In conclusion, any variable x is accessible inside bj if the variable is declared inside bj or any bi with bi>bj.\n"
   ]
  },
  {
   "cell_type": "code",
   "execution_count": null,
   "id": "18835108-7401-433e-a51b-893d2f2033fb",
   "metadata": {},
   "outputs": [],
   "source": [
    "package main\n",
    "import \"fmt\"\n",
    "\n",
    "func main() {\n",
    "\tvar x float32\n",
    "\tvar y int\n",
    "\tfmt.Println(\"Enter a float number:\")\n",
    "\tfmt.Scanf(\"%f\", &x)\n",
    "\tfmt.Printf(\"You entered: %f\\n\", x)\n",
    "\tfmt.Println(\"Enter an integer:\")\n",
    "\ty = int(x)\n",
    "\tfmt.Printf(\"Converted to integer: %d\\n\", y)\n",
    "\n",
    "}"
   ]
  },
  {
   "cell_type": "markdown",
   "id": "ff2a227c-632b-49d4-b77c-f7820800dafc",
   "metadata": {},
   "source": []
  },
  {
   "cell_type": "code",
   "execution_count": null,
   "id": "14a169d9-c309-4fea-ab16-4ecbf51a4ea8",
   "metadata": {},
   "outputs": [],
   "source": []
  }
 ],
 "metadata": {
  "kernelspec": {
   "display_name": "Go",
   "language": "go",
   "name": "gophernotes"
  },
  "language_info": {
   "codemirror_mode": "",
   "file_extension": ".go",
   "mimetype": "",
   "name": "go",
   "nbconvert_exporter": "",
   "pygments_lexer": "",
   "version": "go1.24.3"
  }
 },
 "nbformat": 4,
 "nbformat_minor": 5
}
