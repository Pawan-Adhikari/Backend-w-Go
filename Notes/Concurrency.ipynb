{
 "cells": [
  {
   "cell_type": "markdown",
   "id": "25abcd1b-880e-4917-b599-84cc88cab58d",
   "metadata": {},
   "source": [
    "Parallelism\n",
    "-Number of cores increases over time\n",
    "-Multiple tasks may be performed at the same time on different cores.\n",
    "\n",
    "BUT:\n",
    "\n",
    "-When do tasks start/stop ?\n",
    "-what if one task need data from another task ?\n",
    "-Do tasks conflit in memory ? (Sharing memory, using same memory)\n",
    "\n",
    "  \"$(go env GOPATH)\"/bin/gophernotes\n",
    "Managementt of multiple tasks at the same time. Concurrent Programming enables parallelism.\n",
    "\n",
    "-Communication between tasks.\n",
    "\n",
    "-Synchronization between taskss\n",
    "\n",
    "-Management of task executions\n",
    "\n"
   ]
  },
  {
   "cell_type": "markdown",
   "id": "87544ea3-4125-4871-afd7-226d88cce0da",
   "metadata": {},
   "source": []
  },
  {
   "cell_type": "code",
   "execution_count": null,
   "id": "f91b002f-3b62-458b-bdec-45ded3a0a5c9",
   "metadata": {},
   "outputs": [],
   "source": []
  }
 ],
 "metadata": {
  "kernelspec": {
   "display_name": "Go",
   "language": "go",
   "name": "gophernotes"
  },
  "language_info": {
   "codemirror_mode": "",
   "file_extension": ".go",
   "mimetype": "",
   "name": "go",
   "nbconvert_exporter": "",
   "pygments_lexer": "",
   "version": "go1.24.3"
  }
 },
 "nbformat": 4,
 "nbformat_minor": 5
}
