{
 "cells": [
  {
   "cell_type": "markdown",
   "id": "f5b94c0b-f4a8-4f3e-9ca0-5a14410156af",
   "metadata": {},
   "source": [
    "ASCII --> American Standard Code for Information Interchange\n",
    "\n",
    "-Represented by 8 bits only\n"
   ]
  },
  {
   "cell_type": "markdown",
   "id": "1ae7c86b-e99b-495a-bdfc-b258a8c53bd0",
   "metadata": {},
   "source": [
    "Unicode ---> 32 bit character code\n",
    "\n",
    "UTF - 8= Variable length code = 8 bit UTF codes = same as ASCII \n",
    "\n",
    "Code point = Unicode characters\n",
    "\n",
    "Rune points = a code in UTF go"
   ]
  },
  {
   "cell_type": "markdown",
   "id": "3724700b-e522-45fe-9148-373671973465",
   "metadata": {},
   "source": [
    "Unicode Package\n",
    "\n",
    "-Runes are divided into many different categories\n",
    "\n",
    "-Unicode Package provides a set of function to check the category in which a rune belongs to.\n",
    "\n",
    "eg: IsDigit(r rune)\n",
    "    IsSpace(r rune)\n",
    "    IsLetter(r rune)\n",
    "    IsLower(r rune)\n",
    "    IsPunct(r rune)\n",
    "\n",
    "-Also some functions for conversion.\n",
    "\n",
    "eg: ToUpper(r rune)\n",
    "    ToLower(r rune)\n",
    "    "
   ]
  },
  {
   "cell_type": "markdown",
   "id": "fbce4396-5de8-4afb-8c77-747cf1a98602",
   "metadata": {},
   "source": [
    "Strings Package:\n",
    "\n",
    "Functions for:\n",
    "\n",
    "a) String Searching\n",
    "\n",
    "Compare(a,b) \n",
    "\n",
    "Contains(s, substr) : If substring is contained in s = True\n",
    "\n",
    "HasPrefix(s, prefix) : Returns true if the string s begins with prefix\n",
    "\n",
    "Index(s, substr) : Returns the index of first instance of the substr in the s\n",
    "\n",
    "b) String Manipulation\n",
    "\n",
    "-Strings are immutable but these functions return modified strings\n",
    "\n",
    "Replace(s, old, new, n) : Returns a copy of string \"s\" with first 'n' instances of 'old' replaced by 'new'.\n",
    "\n",
    "ToLower(s), ToUpper(s) ; Returns a copy of string with case change\n",
    "\n",
    "TrimSpace(s) : Removes all leading and trainling spaces in the string."
   ]
  },
  {
   "cell_type": "markdown",
   "id": "a5094cc4-8ff8-4c58-bc58-819b6260b5df",
   "metadata": {},
   "source": [
    "Strconv Package\n",
    "\n",
    "-Conversions to and from string representations of basic data types\n",
    "\n",
    "Atoi (s) : Converts string to int\n",
    "\n",
    "Itoa (s) : Converts int to string\n",
    "\n",
    "FormatFloat (f, fmt, prec, bitSize) : Converts floating point number to string\n",
    "\n",
    "ParseFloat(s, bitSize) : Converts string to float."
   ]
  },
  {
   "cell_type": "code",
   "execution_count": null,
   "id": "dd8a8263-c970-4ddb-8756-4ee795c1eea7",
   "metadata": {},
   "outputs": [],
   "source": [
    "package main\n",
    "import \"fmt\"\n",
    "import \"sort\"\n",
    "import \"strconv\"\n",
    "\n",
    "func main() {\n",
    "\tint_slice := make([]int, 3)\n",
    "\tvar input_str string\n",
    "\tvar input_int int\n",
    "\tfor (input_str != \"X\") {\n",
    "\t\tfmt.Println(\"Enter an integer to append (or 'X' to exit): \")\n",
    "\t\tfmt.Scan(&input_str)\n",
    "\t\tinput_int, _ = strconv.Atoi(input_str)\n",
    "\t\tint_slice = append(int_slice, input_int)\n",
    "\t}\n",
    "\t\n",
    "\tsort.Ints(int_slice)\n",
    "\n",
    "    fmt.Printf(\"Sorted slice: %v\\n\", int_slice)\n",
    "}\n"
   ]
  }
 ],
 "metadata": {
  "kernelspec": {
   "display_name": "Go",
   "language": "go",
   "name": "gophernotes"
  },
  "language_info": {
   "codemirror_mode": "",
   "file_extension": ".go",
   "mimetype": "",
   "name": "go",
   "nbconvert_exporter": "",
   "pygments_lexer": "",
   "version": "go1.24.3"
  }
 },
 "nbformat": 4,
 "nbformat_minor": 5
}
