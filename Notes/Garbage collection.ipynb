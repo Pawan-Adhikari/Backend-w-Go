{
 "cells": [
  {
   "cell_type": "markdown",
   "id": "8d5b98ee-6e1a-45be-a70a-4a2fbf3b7c58",
   "metadata": {},
   "source": [
    "Deallocating Space\n",
    "\n",
    "When variable is no longer needed, it should be deallocated. For eg. each call of a function could create an integer and if not deallocated, with multiple calls, memory leaks might happen.\n",
    "\n",
    "Stack = dedicated to function calls = deallocated after function completes = scope within the function/scope only\n",
    "\n",
    "But things in heap are persistent. They require deallocation. In most compiled languages (without GC), eg C, deallocation is done manually\n",
    "\n",
    "x = malloc (32);\n",
    "free (x) ;\n",
    "\n",
    "This is faster (Compared to GC based) but error-prone(manual).\n",
    "\n",
    "However, In most cases, memory allocated due to variables in stack get deallocated immediately after the function ends.\n",
    "\n",
    "But in some cases with pointers, its hard to determine when a variable is no longer in use\n",
    "\n"
   ]
  },
  {
   "cell_type": "code",
   "execution_count": 1,
   "id": "76f76b4d-00b1-4f87-92c1-b13cc3111b24",
   "metadata": {},
   "outputs": [],
   "source": [
    "import \"fmt\"\n",
    "\n",
    "func foo() *int {\n",
    "    x := 1\n",
    "    return &x\n",
    "}\n",
    "\n",
    "func main () {\n",
    "    var y *int\n",
    "    y = foo()\n",
    "    fmt.Printf(\"%d\", *y)\n",
    "}"
   ]
  },
  {
   "cell_type": "markdown",
   "id": "d3cd5a2c-fa94-4811-8272-32d1a153a853",
   "metadata": {},
   "source": [
    "Here, foo() returns the pointer to x which means the value of x and thus memory allocated by x will still be used after the function ends. Therefore, x cannot be deallocated. This again could lead to memory leak. \n",
    "\n",
    "This is illegal in Go. Deallocation work is error porne to do manually so most languages have garbage collectors which do it automatically for the programmers."
   ]
  },
  {
   "cell_type": "markdown",
   "id": "92366f9c-1407-419f-8619-9ad2013a0581",
   "metadata": {},
   "source": [
    "Garbage Collection:\n",
    "\n",
    "In interpreted languages, this is done by the interpreter.\n",
    "\n",
    "-Java Virtual machine\n",
    "-Python interpreter\n",
    "\n",
    "But in go, the go compiler enables garbage collection.\n",
    "\n",
    "-Implementation is fast. (compared to other interpretator based languages)\n",
    "-Compiler determines stack vs heap.\n",
    "-Garbage collection in the background.\n",
    "-No need of interpreter\n",
    "\n"
   ]
  },
  {
   "cell_type": "code",
   "execution_count": null,
   "id": "88109adf-fcf5-4936-a025-2f95e91957f7",
   "metadata": {},
   "outputs": [],
   "source": []
  }
 ],
 "metadata": {
  "kernelspec": {
   "display_name": "Go",
   "language": "go",
   "name": "gophernotes"
  },
  "language_info": {
   "codemirror_mode": "",
   "file_extension": ".go",
   "mimetype": "",
   "name": "go",
   "nbconvert_exporter": "",
   "pygments_lexer": "",
   "version": "go1.24.3"
  }
 },
 "nbformat": 4,
 "nbformat_minor": 5
}
