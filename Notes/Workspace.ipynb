{
 "cells": [
  {
   "cell_type": "markdown",
   "id": "4c0ada03-70e6-42ac-9409-a28ffdc4f570",
   "metadata": {},
   "source": [
    "Workspace:\n",
    "\n",
    "-src\n",
    "\n",
    "-pkg\n",
    "\n",
    "-bin\n",
    "\n"
   ]
  },
  {
   "cell_type": "markdown",
   "id": "45843195-74e2-4676-8518-dcd19292c90c",
   "metadata": {},
   "source": [
    "Import \n",
    "Key word used to access other packages.\n",
    "Go library includes many packages. The main package we use is \"fmt\".\n"
   ]
  },
  {
   "cell_type": "markdown",
   "id": "5e622cac-db14-4147-b686-45678c9e9aea",
   "metadata": {},
   "source": [
    "Go Tool:\n",
    "go build - complies the program.\n",
    "go doc - prints documentation for a package.\n",
    "go fmt - formats source code files. (Standard indentation)\n",
    "go get - downloads online packges.\n",
    "go list - list all installed packages.\n",
    "go run - compiles and runs the executable.\n",
    "go test - runs tests for files ending like \"_test.go\""
   ]
  }
 ],
 "metadata": {
  "kernelspec": {
   "display_name": "Go",
   "language": "go",
   "name": "gophernotes"
  },
  "language_info": {
   "codemirror_mode": "",
   "file_extension": ".go",
   "mimetype": "",
   "name": "go",
   "nbconvert_exporter": "",
   "pygments_lexer": "",
   "version": "go1.24.3"
  }
 },
 "nbformat": 4,
 "nbformat_minor": 5
}
